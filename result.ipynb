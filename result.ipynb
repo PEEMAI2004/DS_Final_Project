{
 "cells": [
  {
   "cell_type": "code",
   "execution_count": 5,
   "metadata": {},
   "outputs": [],
   "source": [
    "import pandas as pd\n",
    "import matplotlib.pyplot as plt\n",
    "import seaborn as sns\n",
    "\n",
    "# Optional for better visualization\n",
    "sns.set(style=\"whitegrid\")"
   ]
  },
  {
   "cell_type": "code",
   "execution_count": 4,
   "metadata": {},
   "outputs": [],
   "source": [
    "import glob\n",
    "import os\n",
    "\n",
    "# Specify the directory containing the CSV files\n",
    "directory = 'results/'\n",
    "\n",
    "# Get all CSV file names in the specified directory\n",
    "csv_files = glob.glob(os.path.join(directory, \"*.csv\"))\n",
    "\n",
    "# Check if any CSV files are found\n",
    "if not csv_files:\n",
    "    print(\"No CSV files found in the specified directory:\", directory)\n",
    "else:\n",
    "    # Load each CSV file into a DataFrame and store in a list\n",
    "    dataframes = []\n",
    "    for file in csv_files:\n",
    "        # Read CSV file and store in the list\n",
    "        df = pd.read_csv(file)\n",
    "        dataframes.append(df)\n",
    "\n",
    "    # Concatenate all DataFrames into a single DataFrame\n",
    "    combined_df = pd.concat(dataframes, ignore_index=True)\n"
   ]
  },
  {
   "cell_type": "code",
   "execution_count": 6,
   "metadata": {},
   "outputs": [],
   "source": [
    "sorted_combined_df = combined_df.sort_values(by=['Number of Samples', 'Filename'], ascending=[True, True])"
   ]
  },
  {
   "cell_type": "code",
   "execution_count": null,
   "metadata": {
    "vscode": {
     "languageId": "r"
    }
   },
   "outputs": [],
   "source": [
    "import matplotlib.pyplot as plt\n",
    "\n",
    "# Group the data by the number of samples\n",
    "grouped_df = sorted_combined_df.groupby('Number of Samples')\n",
    "# Plot bar graphs for time and memory usage for each group\n",
    "for group_name, group_df in grouped_df:\n",
    "    # Plot bar graph for time usage\n",
    "    plt.figure()\n",
    "    plt.bar(group_df['Filename'], group_df['Run Time (microseconds)'])\n",
    "    plt.xlabel('Filename')\n",
    "    plt.ylabel('Run Time (microseconds)')\n",
    "    plt.title(f'Bar Graph for Time Usage - {group_name} Samples')\n",
    "    plt.xticks(rotation=90)\n",
    "    plt.show()\n",
    "\n",
    "    # Plot bar graph for memory usage\n",
    "    plt.figure()\n",
    "    plt.bar(group_df['Filename'], group_df['Run Memory (bytes)'])\n",
    "    plt.xlabel('Filename')\n",
    "    plt.ylabel('Run Memory (bytes)')\n",
    "    plt.title(f'Bar Graph for Memory Usage - {group_name} Samples')\n",
    "    plt.xticks(rotation=90)\n",
    "    plt.show()"
   ]
  }
 ],
 "metadata": {
  "kernelspec": {
   "display_name": "venv",
   "language": "python",
   "name": "python3"
  },
  "language_info": {
   "codemirror_mode": {
    "name": "ipython",
    "version": 3
   },
   "file_extension": ".py",
   "mimetype": "text/x-python",
   "name": "python",
   "nbconvert_exporter": "python",
   "pygments_lexer": "ipython3",
   "version": "3.11.2"
  }
 },
 "nbformat": 4,
 "nbformat_minor": 2
}
